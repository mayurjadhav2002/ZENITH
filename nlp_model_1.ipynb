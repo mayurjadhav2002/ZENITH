{
  "nbformat": 4,
  "nbformat_minor": 0,
  "metadata": {
    "colab": {
      "provenance": [],
      "authorship_tag": "ABX9TyOgseWcvhSMX2DR1xxXSEXO",
      "include_colab_link": true
    },
    "kernelspec": {
      "name": "python3",
      "display_name": "Python 3"
    },
    "language_info": {
      "name": "python"
    },
    "accelerator": "GPU",
    "gpuClass": "standard"
  },
  "cells": [
    {
      "cell_type": "markdown",
      "metadata": {
        "id": "view-in-github",
        "colab_type": "text"
      },
      "source": [
        "<a href=\"https://colab.research.google.com/github/mayurjadhav2002/ZENITH/blob/main/nlp_model_1.ipynb\" target=\"_parent\"><img src=\"https://colab.research.google.com/assets/colab-badge.svg\" alt=\"Open In Colab\"/></a>"
      ]
    },
    {
      "cell_type": "markdown",
      "source": [
        "# Installation"
      ],
      "metadata": {
        "id": "PrdXYqsYloEt"
      }
    },
    {
      "cell_type": "code",
      "execution_count": 42,
      "metadata": {
        "id": "JrfZg7OA0tFe"
      },
      "outputs": [],
      "source": [
        "import numpy as np\n",
        "import nltk\n",
        "import string\n",
        "import random\n",
        "import pandas as pd\n",
        "from sklearn.feature_extraction.text import TfidfVectorizer\n",
        "from sklearn.metrics.pairwise import cosine_similarity"
      ]
    },
    {
      "cell_type": "code",
      "source": [
        "import warnings\n",
        "warnings.filterwarnings(\"ignore\")"
      ],
      "metadata": {
        "id": "-wtntb3g-SvR"
      },
      "execution_count": 43,
      "outputs": []
    },
    {
      "cell_type": "markdown",
      "source": [
        "# Data Exploration and Cleaning"
      ],
      "metadata": {
        "id": "1cIVkIiXl5b3"
      }
    },
    {
      "cell_type": "code",
      "source": [
        "data=pd.read_csv('/content/WikiQA-train.tsv',sep='\\t')\n"
      ],
      "metadata": {
        "id": "usp2pF4YU5ck"
      },
      "execution_count": 44,
      "outputs": []
    },
    {
      "cell_type": "code",
      "source": [
        "data.head()"
      ],
      "metadata": {
        "colab": {
          "base_uri": "https://localhost:8080/",
          "height": 206
        },
        "id": "49yc8-romLOr",
        "outputId": "d1f044c0-e5ba-4cdb-c790-62737bae2b4f"
      },
      "execution_count": 45,
      "outputs": [
        {
          "output_type": "execute_result",
          "data": {
            "text/plain": [
              "  QuestionID                       Question DocumentID DocumentTitle  \\\n",
              "0         Q1  how are glacier caves formed?         D1  Glacier cave   \n",
              "1         Q1  how are glacier caves formed?         D1  Glacier cave   \n",
              "2         Q1  how are glacier caves formed?         D1  Glacier cave   \n",
              "3         Q1  how are glacier caves formed?         D1  Glacier cave   \n",
              "4         Q1  how are glacier caves formed?         D1  Glacier cave   \n",
              "\n",
              "  SentenceID                                           Sentence  Label  \n",
              "0       D1-0  A partly submerged glacier cave on Perito More...      0  \n",
              "1       D1-1          The ice facade is approximately 60 m high      0  \n",
              "2       D1-2          Ice formations in the Titlis glacier cave      0  \n",
              "3       D1-3  A glacier cave is a cave formed within the ice...      1  \n",
              "4       D1-4  Glacier caves are often called ice caves , but...      0  "
            ],
            "text/html": [
              "\n",
              "  <div id=\"df-d5e13b71-6c92-4ffe-8733-313abec0cdc1\">\n",
              "    <div class=\"colab-df-container\">\n",
              "      <div>\n",
              "<style scoped>\n",
              "    .dataframe tbody tr th:only-of-type {\n",
              "        vertical-align: middle;\n",
              "    }\n",
              "\n",
              "    .dataframe tbody tr th {\n",
              "        vertical-align: top;\n",
              "    }\n",
              "\n",
              "    .dataframe thead th {\n",
              "        text-align: right;\n",
              "    }\n",
              "</style>\n",
              "<table border=\"1\" class=\"dataframe\">\n",
              "  <thead>\n",
              "    <tr style=\"text-align: right;\">\n",
              "      <th></th>\n",
              "      <th>QuestionID</th>\n",
              "      <th>Question</th>\n",
              "      <th>DocumentID</th>\n",
              "      <th>DocumentTitle</th>\n",
              "      <th>SentenceID</th>\n",
              "      <th>Sentence</th>\n",
              "      <th>Label</th>\n",
              "    </tr>\n",
              "  </thead>\n",
              "  <tbody>\n",
              "    <tr>\n",
              "      <th>0</th>\n",
              "      <td>Q1</td>\n",
              "      <td>how are glacier caves formed?</td>\n",
              "      <td>D1</td>\n",
              "      <td>Glacier cave</td>\n",
              "      <td>D1-0</td>\n",
              "      <td>A partly submerged glacier cave on Perito More...</td>\n",
              "      <td>0</td>\n",
              "    </tr>\n",
              "    <tr>\n",
              "      <th>1</th>\n",
              "      <td>Q1</td>\n",
              "      <td>how are glacier caves formed?</td>\n",
              "      <td>D1</td>\n",
              "      <td>Glacier cave</td>\n",
              "      <td>D1-1</td>\n",
              "      <td>The ice facade is approximately 60 m high</td>\n",
              "      <td>0</td>\n",
              "    </tr>\n",
              "    <tr>\n",
              "      <th>2</th>\n",
              "      <td>Q1</td>\n",
              "      <td>how are glacier caves formed?</td>\n",
              "      <td>D1</td>\n",
              "      <td>Glacier cave</td>\n",
              "      <td>D1-2</td>\n",
              "      <td>Ice formations in the Titlis glacier cave</td>\n",
              "      <td>0</td>\n",
              "    </tr>\n",
              "    <tr>\n",
              "      <th>3</th>\n",
              "      <td>Q1</td>\n",
              "      <td>how are glacier caves formed?</td>\n",
              "      <td>D1</td>\n",
              "      <td>Glacier cave</td>\n",
              "      <td>D1-3</td>\n",
              "      <td>A glacier cave is a cave formed within the ice...</td>\n",
              "      <td>1</td>\n",
              "    </tr>\n",
              "    <tr>\n",
              "      <th>4</th>\n",
              "      <td>Q1</td>\n",
              "      <td>how are glacier caves formed?</td>\n",
              "      <td>D1</td>\n",
              "      <td>Glacier cave</td>\n",
              "      <td>D1-4</td>\n",
              "      <td>Glacier caves are often called ice caves , but...</td>\n",
              "      <td>0</td>\n",
              "    </tr>\n",
              "  </tbody>\n",
              "</table>\n",
              "</div>\n",
              "      <button class=\"colab-df-convert\" onclick=\"convertToInteractive('df-d5e13b71-6c92-4ffe-8733-313abec0cdc1')\"\n",
              "              title=\"Convert this dataframe to an interactive table.\"\n",
              "              style=\"display:none;\">\n",
              "        \n",
              "  <svg xmlns=\"http://www.w3.org/2000/svg\" height=\"24px\"viewBox=\"0 0 24 24\"\n",
              "       width=\"24px\">\n",
              "    <path d=\"M0 0h24v24H0V0z\" fill=\"none\"/>\n",
              "    <path d=\"M18.56 5.44l.94 2.06.94-2.06 2.06-.94-2.06-.94-.94-2.06-.94 2.06-2.06.94zm-11 1L8.5 8.5l.94-2.06 2.06-.94-2.06-.94L8.5 2.5l-.94 2.06-2.06.94zm10 10l.94 2.06.94-2.06 2.06-.94-2.06-.94-.94-2.06-.94 2.06-2.06.94z\"/><path d=\"M17.41 7.96l-1.37-1.37c-.4-.4-.92-.59-1.43-.59-.52 0-1.04.2-1.43.59L10.3 9.45l-7.72 7.72c-.78.78-.78 2.05 0 2.83L4 21.41c.39.39.9.59 1.41.59.51 0 1.02-.2 1.41-.59l7.78-7.78 2.81-2.81c.8-.78.8-2.07 0-2.86zM5.41 20L4 18.59l7.72-7.72 1.47 1.35L5.41 20z\"/>\n",
              "  </svg>\n",
              "      </button>\n",
              "      \n",
              "  <style>\n",
              "    .colab-df-container {\n",
              "      display:flex;\n",
              "      flex-wrap:wrap;\n",
              "      gap: 12px;\n",
              "    }\n",
              "\n",
              "    .colab-df-convert {\n",
              "      background-color: #E8F0FE;\n",
              "      border: none;\n",
              "      border-radius: 50%;\n",
              "      cursor: pointer;\n",
              "      display: none;\n",
              "      fill: #1967D2;\n",
              "      height: 32px;\n",
              "      padding: 0 0 0 0;\n",
              "      width: 32px;\n",
              "    }\n",
              "\n",
              "    .colab-df-convert:hover {\n",
              "      background-color: #E2EBFA;\n",
              "      box-shadow: 0px 1px 2px rgba(60, 64, 67, 0.3), 0px 1px 3px 1px rgba(60, 64, 67, 0.15);\n",
              "      fill: #174EA6;\n",
              "    }\n",
              "\n",
              "    [theme=dark] .colab-df-convert {\n",
              "      background-color: #3B4455;\n",
              "      fill: #D2E3FC;\n",
              "    }\n",
              "\n",
              "    [theme=dark] .colab-df-convert:hover {\n",
              "      background-color: #434B5C;\n",
              "      box-shadow: 0px 1px 3px 1px rgba(0, 0, 0, 0.15);\n",
              "      filter: drop-shadow(0px 1px 2px rgba(0, 0, 0, 0.3));\n",
              "      fill: #FFFFFF;\n",
              "    }\n",
              "  </style>\n",
              "\n",
              "      <script>\n",
              "        const buttonEl =\n",
              "          document.querySelector('#df-d5e13b71-6c92-4ffe-8733-313abec0cdc1 button.colab-df-convert');\n",
              "        buttonEl.style.display =\n",
              "          google.colab.kernel.accessAllowed ? 'block' : 'none';\n",
              "\n",
              "        async function convertToInteractive(key) {\n",
              "          const element = document.querySelector('#df-d5e13b71-6c92-4ffe-8733-313abec0cdc1');\n",
              "          const dataTable =\n",
              "            await google.colab.kernel.invokeFunction('convertToInteractive',\n",
              "                                                     [key], {});\n",
              "          if (!dataTable) return;\n",
              "\n",
              "          const docLinkHtml = 'Like what you see? Visit the ' +\n",
              "            '<a target=\"_blank\" href=https://colab.research.google.com/notebooks/data_table.ipynb>data table notebook</a>'\n",
              "            + ' to learn more about interactive tables.';\n",
              "          element.innerHTML = '';\n",
              "          dataTable['output_type'] = 'display_data';\n",
              "          await google.colab.output.renderOutput(dataTable, element);\n",
              "          const docLink = document.createElement('div');\n",
              "          docLink.innerHTML = docLinkHtml;\n",
              "          element.appendChild(docLink);\n",
              "        }\n",
              "      </script>\n",
              "    </div>\n",
              "  </div>\n",
              "  "
            ]
          },
          "metadata": {},
          "execution_count": 45
        }
      ]
    },
    {
      "cell_type": "code",
      "source": [
        "data.info()"
      ],
      "metadata": {
        "colab": {
          "base_uri": "https://localhost:8080/"
        },
        "id": "UkFbcTCmWFKN",
        "outputId": "39d0113c-386d-4e83-eeaf-6964e3f86f0a"
      },
      "execution_count": 46,
      "outputs": [
        {
          "output_type": "stream",
          "name": "stdout",
          "text": [
            "<class 'pandas.core.frame.DataFrame'>\n",
            "RangeIndex: 20347 entries, 0 to 20346\n",
            "Data columns (total 7 columns):\n",
            " #   Column         Non-Null Count  Dtype \n",
            "---  ------         --------------  ----- \n",
            " 0   QuestionID     20347 non-null  object\n",
            " 1   Question       20347 non-null  object\n",
            " 2   DocumentID     20347 non-null  object\n",
            " 3   DocumentTitle  20347 non-null  object\n",
            " 4   SentenceID     20347 non-null  object\n",
            " 5   Sentence       20347 non-null  object\n",
            " 6   Label          20347 non-null  int64 \n",
            "dtypes: int64(1), object(6)\n",
            "memory usage: 1.1+ MB\n"
          ]
        }
      ]
    },
    {
      "cell_type": "code",
      "source": [
        "data.isnull().sum()"
      ],
      "metadata": {
        "colab": {
          "base_uri": "https://localhost:8080/"
        },
        "id": "zmt0lsIseqAV",
        "outputId": "c8b6c21b-e261-47fb-8742-d830370b4af5"
      },
      "execution_count": 47,
      "outputs": [
        {
          "output_type": "execute_result",
          "data": {
            "text/plain": [
              "QuestionID       0\n",
              "Question         0\n",
              "DocumentID       0\n",
              "DocumentTitle    0\n",
              "SentenceID       0\n",
              "Sentence         0\n",
              "Label            0\n",
              "dtype: int64"
            ]
          },
          "metadata": {},
          "execution_count": 47
        }
      ]
    },
    {
      "cell_type": "markdown",
      "source": [
        "# Training Dataset\n",
        "as we see in our dataset that multiple rows have same QuestionId and DocumentID. this rows exhibit same data, grouping these rows will make tokenization less complex."
      ],
      "metadata": {
        "id": "2vpuBEXtnI4x"
      }
    },
    {
      "cell_type": "markdown",
      "source": [
        "In order to train dataset create a new txt file.\n",
        "\n",
        "* this *.txt file will consists of question and Sentence \n",
        "\n"
      ],
      "metadata": {
        "id": "WwGIFtpnnpHQ"
      }
    },
    {
      "cell_type": "code",
      "source": [
        "text_file = open(\"/content/text2.txt\", \"w\")\n",
        "prev_index = '0'\n",
        "for index, row in data.iterrows():\n",
        "  if row['QuestionID']== prev_index:\n",
        "      text_file.write(row['Sentence'])\n",
        "      prev_index = row['QuestionID']\n",
        "  else:\n",
        "      text_file.write('\\n')\n",
        "      text_file.write(row['Sentence'])\n",
        "      prev_index = row['QuestionID']\n",
        "text_file.close()"
      ],
      "metadata": {
        "id": "TQzoL2OYWSHo"
      },
      "execution_count": 48,
      "outputs": []
    },
    {
      "cell_type": "code",
      "source": [
        "f = open('/content/text2.txt', 'r', errors='ignore')\n",
        "raw_doc = f.read()\n",
        "raw_doc = raw_doc.lower()\n"
      ],
      "metadata": {
        "id": "WaIs2ZQ_983M"
      },
      "execution_count": 49,
      "outputs": []
    },
    {
      "cell_type": "markdown",
      "source": [
        "The punkt library is a pre-trained machine learning model that is used to perform sentence boundary detection, which is the process of identifying the boundaries between sentences in a piece of text. Sentence boundary detection is important for NLP tasks such as text classification, summarization, and translation, as it helps to identify the structure of the text and determine the meaning of individual sentences.\n",
        "\n",
        "The wordnet library is a lexical database for the English language that is used to perform tasks such as synonym identification, antonym identification, and word sense disambiguation. It is based on the WordNet database, which is a large collection of English words and their relationships, organized into synonym sets (synsets). WordNet is widely used in NLP tasks such as text classification, information retrieval, and machine translation.\n",
        "\n",
        "In summary, the punkt and wordnet libraries are useful tools for NLP projects because they provide pre-trained models and resources for performing common NLP tasks, such as sentence boundary detection and word sense disambiguation."
      ],
      "metadata": {
        "id": "Asvli9ft-Cz1"
      }
    },
    {
      "cell_type": "code",
      "source": [
        "nltk.download('punkt')\n",
        "nltk.download('wordnet')\n",
        "nltk.download('omw-1.4')"
      ],
      "metadata": {
        "colab": {
          "base_uri": "https://localhost:8080/"
        },
        "id": "cvYLf0QiCjs9",
        "outputId": "ea649c48-0409-4241-b9b0-7b709f8445b5"
      },
      "execution_count": 50,
      "outputs": [
        {
          "output_type": "stream",
          "name": "stderr",
          "text": [
            "[nltk_data] Downloading package punkt to /root/nltk_data...\n",
            "[nltk_data]   Package punkt is already up-to-date!\n",
            "[nltk_data] Downloading package wordnet to /root/nltk_data...\n",
            "[nltk_data]   Package wordnet is already up-to-date!\n",
            "[nltk_data] Downloading package omw-1.4 to /root/nltk_data...\n",
            "[nltk_data]   Package omw-1.4 is already up-to-date!\n"
          ]
        },
        {
          "output_type": "execute_result",
          "data": {
            "text/plain": [
              "True"
            ]
          },
          "metadata": {},
          "execution_count": 50
        }
      ]
    },
    {
      "cell_type": "code",
      "source": [
        "# Tokenization\n",
        "sent_token = nltk.sent_tokenize(raw_doc)\n",
        "word_token = nltk.word_tokenize(raw_doc)"
      ],
      "metadata": {
        "id": "Lf9use1XCu5O"
      },
      "execution_count": 51,
      "outputs": []
    },
    {
      "cell_type": "code",
      "source": [
        "lemmer = nltk.stem.WordNetLemmatizer()\n",
        "remove_punc = dict((ord(punct),None) for punct in string.punctuation)\n",
        "def lemmertoken(token):\n",
        "  return [lemmer.lemmatize(i) for i in token]\n",
        "def LemNormalize(text):\n",
        "  return lemmertoken(nltk.word_tokenize(text.lower().translate(remove_punc)))"
      ],
      "metadata": {
        "id": "w5pLfwqYDCRK"
      },
      "execution_count": 52,
      "outputs": []
    },
    {
      "cell_type": "code",
      "source": [
        "# Greet First\n",
        "GREET_IN = ('hii', 'hello', 'hey','hi', 'chatbot', 'holla','how are you')\n",
        "GREET_OUT = ['hey', 'hi', 'hi i am a chatbot', 'hii, nice to see you', 'hey you got something to ask', 'how you doing? ohh i asked, i am intelligent']\n",
        "def greet(sentence):\n",
        "  for word in sentence.split():\n",
        "    if word.lower() in GREET_IN:\n",
        "      return random.choice(GREET_OUT)\n"
      ],
      "metadata": {
        "id": "3r6GL4byEc5u"
      },
      "execution_count": 53,
      "outputs": []
    },
    {
      "cell_type": "code",
      "source": [
        "def response(user_input):\n",
        "  robot_response = ''\n",
        "  Fidfvect = TfidfVectorizer(tokenizer=LemNormalize,stop_words='english' )\n",
        "  tfidfv = Fidfvect.fit_transform(sent_token)\n",
        "  vals = cosine_similarity(tfidfv[-1], tfidfv)\n",
        "  idx = vals.argsort()[0][-2]\n",
        "  flat = vals.flatten()\n",
        "  flat.sort()\n",
        "  req_tfidf = flat[-2]\n",
        "  if req_tfidf == 0:\n",
        "    robot_response = robot_response + \"Sorry, I don't understand\"\n",
        "    return robot_response \n",
        "  else:\n",
        "    robot_response = robot_response + sent_token[idx]\n",
        "    return robot_response "
      ],
      "metadata": {
        "id": "U-rFRnKvLsB-"
      },
      "execution_count": 54,
      "outputs": []
    },
    {
      "cell_type": "code",
      "source": [
        "start = True\n",
        "print(\"Zenith Started\")\n",
        "print('----------------------------------')\n",
        "while start:\n",
        "  user_response = input(\"User: \").lower()\n",
        "  try:\n",
        "      if user_response != 'bye':\n",
        "        if user_response =='thanks' or user_response=='thank you':\n",
        "            start = False\n",
        "            print(\"Zenith: You are Welcome!\")\n",
        "        else:\n",
        "            if greet(user_response) != None:\n",
        "              print('Zenith: ' + greet(user_response))\n",
        "            else:\n",
        "              sent_token.append(user_response)\n",
        "              word_token = word_token + nltk.word_tokenize(user_response)\n",
        "              final_words = list(set(word_token))\n",
        "              print('Zenith: ', end=' ')\n",
        "              print(response(user_response))\n",
        "              sent_token.remove(user_response)\n",
        "      else:\n",
        "          start = False\n",
        "          print('Zenith: Bye! Have a Good Day!')\n",
        "  except:\n",
        "      print('Zenith: please try again')"
      ],
      "metadata": {
        "colab": {
          "base_uri": "https://localhost:8080/"
        },
        "id": "qWZnQY3INsU8",
        "outputId": "340ecfb8-df6b-4a1c-b11c-5471c872bb13"
      },
      "execution_count": 56,
      "outputs": [
        {
          "output_type": "stream",
          "name": "stdout",
          "text": [
            "Zenith Started\n",
            "----------------------------------\n",
            "User: hii\n",
            "Zenith: hi\n",
            "User: how much water is in one spoon\n",
            "Zenith:  this tablespoon has a capacity of about 15 ml.measuring spoonsin the us and parts of canada, a tablespoon is the largest type of spoon used for eating from a bowl.in the uk, europe and most commonwealth countries, a tablespoon is a type of large spoon usually used for serving.in countries where a tablespoon is a serving spoon, the nearest equivalent to the us tablespoon is either the dessert spoon or the soup spoon .a tablespoonful, nominally the capacity of one tablespoon, is commonly used as a measure of volume in cooking .it is abbreviated as t, tb, tbs, tbsp, tblsp, or tblspn.the capacity of ordinary tablespoons is not regulated by law and is subject to considerable variation.in the usa one tablespoon (measurement unit) is approximately 15 ml; the capacity of an actual tablespoon (dining utensil) ranges from 7 ml to 14 ml.in australia one tablespoon (measurement unit) is 20 ml.\n",
            "User: bye\n",
            "Zenith: Bye! Have a Good Day!\n"
          ]
        }
      ]
    }
  ]
}